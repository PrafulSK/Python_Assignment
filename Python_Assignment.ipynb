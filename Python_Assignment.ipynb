{
 "cells": [
  {
   "cell_type": "markdown",
   "id": "194817db",
   "metadata": {},
   "source": [
    "# Name : Praful Sunil Kadam            College: COEP"
   ]
  },
  {
   "cell_type": "markdown",
   "id": "7d7678f7",
   "metadata": {},
   "source": [
    "# A company decided to give bonus of 5% to employee if his/her year of service is more than 5 years. Ask user for their salary and year of service and print the net bonus amount.\n"
   ]
  },
  {
   "cell_type": "code",
   "execution_count": 1,
   "id": "dc1b010b",
   "metadata": {},
   "outputs": [
    {
     "name": "stdout",
     "output_type": "stream",
     "text": [
      "Enter your Salary: 100\n",
      "Year of Service: 6\n",
      "Your 5% Bonus is Rs5.0\n"
     ]
    }
   ],
   "source": [
    "a=int(input('Enter your Salary: '))\n",
    "b=int(input('Year of Service: '))\n",
    "if b>5:\n",
    "    c=a*5/100\n",
    "    print('Your 5% Bonus is Rs{}'.format(c))\n",
    "else:\n",
    "    print('No Bonus')"
   ]
  },
  {
   "cell_type": "markdown",
   "id": "7f3cdf50",
   "metadata": {},
   "source": [
    "# A school has following rules for grading system:\n",
    "# a. Below 25 - F\n",
    "# b. 25 to 45 - E\n",
    "# c. 45 to 50 - D\n",
    "# d. 50 to 60 - C\n",
    "# e. 60 to 80 - B\n",
    "# f. Above 80 - A\n",
    "# Ask user to enter marks and print the corresponding grade"
   ]
  },
  {
   "cell_type": "code",
   "execution_count": 2,
   "id": "89f0352f",
   "metadata": {},
   "outputs": [
    {
     "name": "stdout",
     "output_type": "stream",
     "text": [
      "Enter Marks: 45\n",
      "E\n"
     ]
    }
   ],
   "source": [
    "a=int(input('Enter Marks: '))\n",
    "if a>80:\n",
    "\tprint('A')\n",
    "elif a>60:\n",
    "\tprint('B')\n",
    "elif a>50:\n",
    "\tprint('C')\n",
    "elif a>45:\n",
    "\tprint('D')\n",
    "elif a>25:\n",
    "\tprint('E')\n",
    "else:\n",
    "\tprint('F')"
   ]
  },
  {
   "cell_type": "markdown",
   "id": "02f335d6",
   "metadata": {},
   "source": [
    "# A student will not be allowed to sit in exam if his/her attendence is less than 75%.\n",
    "# Take following input from user\n",
    "# Number of classes held\n",
    "# Number of classes attended.\n",
    "# And print\n",
    "# percentage of class attended\n",
    "# Is student is allowed to sit in exam or not."
   ]
  },
  {
   "cell_type": "code",
   "execution_count": 3,
   "id": "142efe6c",
   "metadata": {},
   "outputs": [
    {
     "name": "stdout",
     "output_type": "stream",
     "text": [
      "Number of Classes held: 100\n",
      "Number of Class attended: 85\n",
      "Percentage of class attended =85.0\n",
      "Allowed for Exam\n"
     ]
    }
   ],
   "source": [
    "a=int(input('Number of Classes held: '))\n",
    "b=int(input('Number of Class attended: '))\n",
    "c=(b/a)*100\n",
    "\n",
    "print('Percentage of class attended ={}'.format(c))\n",
    "if c>75:\n",
    "\tprint('Allowed for Exam')\n",
    "else:\n",
    "\tprint('Not allowed')"
   ]
  },
  {
   "cell_type": "markdown",
   "id": "7ac93bc5",
   "metadata": {},
   "source": [
    "# Ask user to enter age, sex ( M or F ), marital status ( Y or N ) and then usingfollowing rules print their place of service.\n",
    "# if employee is female, then she will work only in urban areas.\n",
    "# if employee is a male and age is in between 20 to 40 then he may work in anywhere\n",
    "# if employee is male and age is in between 40 t0 60 then he will work in urban areas only.\n",
    "# And any other input of age should print \"ERROR\"\n"
   ]
  },
  {
   "cell_type": "code",
   "execution_count": 4,
   "id": "4a164f7c",
   "metadata": {},
   "outputs": [
    {
     "name": "stdout",
     "output_type": "stream",
     "text": [
      "Enter your Age: 45\n",
      "Gender M or F: m\n",
      "Marital Status Y or N: n\n",
      "Urban\n"
     ]
    }
   ],
   "source": [
    "a=int(input('Enter your Age: '))\n",
    "b=input('Gender M or F: ')\n",
    "c=input('Marital Status Y or N: ')\n",
    "g=b.upper()\n",
    "d=c.upper()\n",
    "if a>20 and a<60:\n",
    "\tif g=='F':\n",
    "\t\tprint('Urban')\n",
    "\telif a>20 and a<40:\n",
    "\t\tprint( ' Urban or Rural')\n",
    "\telif a>= 40 and a<60:\n",
    "\t\tprint ('Urban')\n",
    "else:\n",
    "\tprint('Error')"
   ]
  },
  {
   "cell_type": "markdown",
   "id": "530a1910",
   "metadata": {},
   "source": [
    "# Take 10 integers from keyboard using loop and print their average value on the screen."
   ]
  },
  {
   "cell_type": "code",
   "execution_count": 3,
   "id": "41b07b91",
   "metadata": {
    "scrolled": true
   },
   "outputs": [
    {
     "name": "stdout",
     "output_type": "stream",
     "text": [
      "Enter the number 1: 12\n",
      "Enter the number 2: 6\n",
      "Enter the number 3: 4\n",
      "Enter the number 4: 8\n",
      "Enter the number 5: 9\n",
      "Enter the number 6: 7\n",
      "Enter the number 7: 5\n",
      "Enter the number 8: 9\n",
      "Enter the number 9: 4\n",
      "Enter the number 10: 5\n",
      "Average is:  6.9\n"
     ]
    }
   ],
   "source": [
    "sum=0\n",
    "for i in range (1,11):\n",
    "\tn=int(input('Enter the number {}: '.format(i)))\n",
    "\tsum+=n\n",
    "print('Average is: ', sum/10)"
   ]
  },
  {
   "cell_type": "markdown",
   "id": "9c391114",
   "metadata": {},
   "source": [
    "# Write a program to calculate factorial of a number"
   ]
  },
  {
   "cell_type": "code",
   "execution_count": 4,
   "id": "078fff88",
   "metadata": {},
   "outputs": [
    {
     "name": "stdout",
     "output_type": "stream",
     "text": [
      "Enter a number: 5\n",
      "120\n"
     ]
    }
   ],
   "source": [
    "n=int(input('Enter a number: '))\n",
    "if n>0:\n",
    "\tfactorial=1\n",
    "\tfor i in range(1, n+1):\n",
    "\t\tfactorial*=i\n",
    "\tprint(factorial)\n",
    "elif n==0:\n",
    "\tprint ('1')\n",
    "elif n<0:\n",
    "\tprint('Not Defined')"
   ]
  },
  {
   "cell_type": "markdown",
   "id": "cc68ca1a",
   "metadata": {},
   "source": [
    "# Take integer inputs from user until he/she presses q ( Ask to press q to quit after every integer input ). Print average and product of all numbers"
   ]
  },
  {
   "cell_type": "code",
   "execution_count": 5,
   "id": "dd819bb8",
   "metadata": {},
   "outputs": [
    {
     "name": "stdout",
     "output_type": "stream",
     "text": [
      "Enter a number or press q to quit: 45\n",
      "Enter a number or press q to quit: 6\n",
      "Enter a number or press q to quit: 7\n",
      "Enter a number or press q to quit: q\n",
      "Avg of number is:  29.0 \n",
      " Product is:  1890\n"
     ]
    }
   ],
   "source": [
    "sum=0\n",
    "pro=1\n",
    "while True:\n",
    "\tj=(input('Enter a number or press q to quit: '))\n",
    "\tif j !='q':\n",
    "\t\ti=int(j)\n",
    "\t\tsum+=i\n",
    "\t\tpro*=i\n",
    "\telse:\n",
    "\t\tbreak\n",
    "# here condition is while True therefore else is not used to print the final answer as the program would never come to else part outside the loop.\n",
    "print('Avg of number is: ',sum/2,'\\n Product is: ', pro)"
   ]
  },
  {
   "cell_type": "markdown",
   "id": "82e2835f",
   "metadata": {},
   "source": [
    "# A three digit number is called Armstrong number if sum of cube of its digit is equal to number itself. E.g.- 153 is an Armstrong number because (13)+(53)+(33) = 153. Write all Armstrong numbers between 100 to 500.\n"
   ]
  },
  {
   "cell_type": "code",
   "execution_count": 6,
   "id": "55568d10",
   "metadata": {},
   "outputs": [
    {
     "name": "stdout",
     "output_type": "stream",
     "text": [
      "153\n",
      "370\n",
      "371\n",
      "407\n"
     ]
    }
   ],
   "source": [
    "for n in range (100, 501):\n",
    "\ta=n\n",
    "\td=100 #denominator\n",
    "\tsum=0\n",
    "\twhile a!=0:\n",
    "\t\tp=a//d\n",
    "\t\tc=p**3\n",
    "\t\tsum+=c\n",
    "\t\ta=a%d\n",
    "\t\td=d/10\n",
    "\tif sum==n:\n",
    "\t\tprint(n)"
   ]
  },
  {
   "cell_type": "markdown",
   "id": "4d76ad25",
   "metadata": {},
   "source": [
    "# Write a program to find the length of the string \"refrigerator\" without using len function."
   ]
  },
  {
   "cell_type": "code",
   "execution_count": 7,
   "id": "6f34b4c7",
   "metadata": {},
   "outputs": [
    {
     "name": "stdout",
     "output_type": "stream",
     "text": [
      "Enter the text: Virat kholi\n",
      "11\n"
     ]
    }
   ],
   "source": [
    "string=input('Enter the text: ')\n",
    "l=0\n",
    "for i in (string):\n",
    "\tl+=1\n",
    "print(l)"
   ]
  },
  {
   "cell_type": "markdown",
   "id": "04455147",
   "metadata": {},
   "source": [
    "# Write a program that takes your full name as input and displays the abbreviations of the first and middle names except the last name which is displayed as it is. For example, if your name is Robert Brett Roser, then the output should be R.B.Roser"
   ]
  },
  {
   "cell_type": "code",
   "execution_count": 10,
   "id": "93cbed69",
   "metadata": {},
   "outputs": [
    {
     "name": "stdout",
     "output_type": "stream",
     "text": [
      "Enter Full Name: Shah Rukh Khan\n",
      "S.R.Khan\n"
     ]
    }
   ],
   "source": [
    "name=input('Enter Full Name: ')\n",
    "a=name.split()\n",
    "for i in (a[0]):\n",
    "\tf=i\n",
    "\tbreak\n",
    "for j in (a[1]):\n",
    "\ts=j\n",
    "\tbreak\n",
    "print(f+'.'+s+'.'+a[2])"
   ]
  },
  {
   "cell_type": "code",
   "execution_count": 11,
   "id": "812abbdb",
   "metadata": {},
   "outputs": [
    {
     "name": "stdout",
     "output_type": "stream",
     "text": [
      "Enter Full Name: Mahendra Singh Dhoni\n",
      "M.S.Dhoni\n"
     ]
    }
   ],
   "source": [
    "name=input('Enter Full Name: ')\n",
    "a=name.split()\n",
    "f=a[0][0]\n",
    "s=a[1][0]\n",
    "print(f+'.'+s+'.'+a[2])"
   ]
  }
 ],
 "metadata": {
  "kernelspec": {
   "display_name": "Python 3",
   "language": "python",
   "name": "python3"
  },
  "language_info": {
   "codemirror_mode": {
    "name": "ipython",
    "version": 3
   },
   "file_extension": ".py",
   "mimetype": "text/x-python",
   "name": "python",
   "nbconvert_exporter": "python",
   "pygments_lexer": "ipython3",
   "version": "3.8.8"
  }
 },
 "nbformat": 4,
 "nbformat_minor": 5
}
